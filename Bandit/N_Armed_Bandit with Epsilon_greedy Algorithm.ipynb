{
 "cells": [
  {
   "cell_type": "code",
   "execution_count": 1,
   "metadata": {},
   "outputs": [],
   "source": [
    "import numpy as np"
   ]
  },
  {
   "cell_type": "code",
   "execution_count": 109,
   "metadata": {},
   "outputs": [],
   "source": [
    "class Bandit(object):\n",
    "    \n",
    "    def __init__(self,n_armed,n_episodes,epsilon):\n",
    "        \n",
    "        self.n_armed = n_armed\n",
    "        self.epsilon = epsilon\n",
    "        self.n_episodes = n_episodes\n",
    "        self.reward = 0\n",
    "        self.choice = 0\n",
    "        self.best_arm = np.random.rand(1,self.n_armed)\n",
    "        self.total_reward = np.zeros((1,self.n_armed))\n",
    "        self.total_count = np.zeros((1,self.n_armed))\n",
    "        \n",
    "    def pullBandit(self,i):\n",
    "        \n",
    "        if np.random.rand(1)<self.best_arm[0][i]:\n",
    "            return 1\n",
    "        else:\n",
    "            return 0\n",
    "        \n",
    "    def EpsilonGreedy(self):\n",
    "        \n",
    "        if abs(np.random.randn(1))<self.epsilon:\n",
    "            \n",
    "            self.choice = np.argmax(np.random.randn(1,self.n_armed))\n",
    "            self.total_count[0][self.choice] += 1\n",
    "            self.reward = self.pullBandit(self.choice)\n",
    "            self.total_reward[0][self.choice] += 1/self.total_count[0][self.choice]*(self.reward - self.total_reward[0][self.choice])\n",
    "            \n",
    "            return self.total_reward\n",
    "            \n",
    "        else:\n",
    "            self.choice = np.argmax(self.total_reward[0])\n",
    "            self.total_count[0][self.choice] += 1\n",
    "            self.reward = self.pullBandit(self.choice)\n",
    "            self.total_reward[0][self.choice] += 1/self.total_count[0][self.choice]*(self.reward - self.total_reward[0][self.choice])\n",
    "            \n",
    "            return self.total_reward\n",
    "        \n",
    "    def Main(self):\n",
    "        \n",
    "        i = 0\n",
    "        while i<self.n_episodes:\n",
    "            self.total_reward = self.EpsilonGreedy()\n",
    "            i+=1\n",
    "        #print('Finish')\n",
    "        #if np.argmax(self.total_reward) == np.argmax(self.best_arm):\n",
    "            #print(\"Result : Correct\")\n",
    "        #else:\n",
    "            #print(\"Result : False\")\n",
    "        return np.argmax(self.total_reward) == np.argmax(self.best_arm)"
   ]
  },
  {
   "cell_type": "code",
   "execution_count": 118,
   "metadata": {},
   "outputs": [
    {
     "name": "stdout",
     "output_type": "stream",
     "text": [
      "Condition: n_episodes: 1000 || n_armed: 10 || epsilon: 0.2\n",
      "Accuracy: 0.9333333333333333\n"
     ]
    }
   ],
   "source": [
    "epsilon = .2\n",
    "n_episodes = 1000\n",
    "n_armed = 10\n",
    "correct_count = 0\n",
    "trial = 30\n",
    "for _ in range(trial):\n",
    "    correct_count += Bandit(n_armed=n_armed,n_episodes=n_episodes,epsilon=epsilon).Main()\n",
    "\n",
    "print(f'Condition: n_episodes: {n_episodes} || n_armed: {n_armed} || epsilon: {epsilon}')\n",
    "print(f'Accuracy: {correct_count/trial}')"
   ]
  },
  {
   "cell_type": "code",
   "execution_count": null,
   "metadata": {},
   "outputs": [],
   "source": []
  }
 ],
 "metadata": {
  "kernelspec": {
   "display_name": "Python 3",
   "language": "python",
   "name": "python3"
  },
  "language_info": {
   "codemirror_mode": {
    "name": "ipython",
    "version": 3
   },
   "file_extension": ".py",
   "mimetype": "text/x-python",
   "name": "python",
   "nbconvert_exporter": "python",
   "pygments_lexer": "ipython3",
   "version": "3.7.4"
  }
 },
 "nbformat": 4,
 "nbformat_minor": 2
}
