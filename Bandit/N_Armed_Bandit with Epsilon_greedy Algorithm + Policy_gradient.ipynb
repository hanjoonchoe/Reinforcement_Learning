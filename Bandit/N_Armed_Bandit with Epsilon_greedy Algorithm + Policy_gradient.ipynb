{
 "cells": [
  {
   "cell_type": "code",
   "execution_count": 1,
   "metadata": {},
   "outputs": [],
   "source": [
    "import numpy as np"
   ]
  },
  {
   "cell_type": "code",
   "execution_count": 93,
   "metadata": {},
   "outputs": [],
   "source": [
    "class Bandit(object):\n",
    "    \n",
    "    def __init__(self,n_armed,n_episodes,epsilon,lr):\n",
    "        \n",
    "        self.n_armed = n_armed\n",
    "        self.epsilon = epsilon\n",
    "        self.n_episodes = n_episodes\n",
    "        self.lr = lr\n",
    "        self.reward = 0\n",
    "        self.choice = 0\n",
    "        self.best_arm = np.random.rand(1,self.n_armed)\n",
    "        self.total_reward = np.zeros((1,self.n_armed))+5 #Optimistic\n",
    "        \n",
    "    def pullBandit(self,i):\n",
    "        \n",
    "        if np.random.rand(1)<self.best_arm[0][i]:\n",
    "            return 1\n",
    "        else:\n",
    "            return 0\n",
    "        \n",
    "    def PolicyGradientUpdate(self,total_reward,reward):\n",
    "        \n",
    "        total_reward = total_reward -self.lr*((-1/total_reward)*reward)\n",
    "        return total_reward\n",
    "        \n",
    "    def EpsilonGreedy(self):\n",
    "        \n",
    "        if abs(np.random.randn(1))<self.epsilon:\n",
    "            \n",
    "            self.choice = np.argmax(np.random.randn(1,self.n_armed))\n",
    "            self.reward = self.pullBandit(self.choice)\n",
    "            self.total_reward[0][self.choice] = self.PolicyGradientUpdate(self.total_reward[0][self.choice],self.reward)\n",
    "            \n",
    "            return self.total_reward\n",
    "            \n",
    "        else:\n",
    "            self.choice = np.argmax(self.total_reward[0])\n",
    "            self.reward = self.pullBandit(self.choice)\n",
    "            self.total_reward[0][self.choice] = self.PolicyGradientUpdate(self.total_reward[0][self.choice],self.reward)\n",
    "            \n",
    "            return self.total_reward\n",
    "        \n",
    "    def Main(self):\n",
    "        \n",
    "        i = 0\n",
    "        while i<self.n_episodes:\n",
    "            self.total_reward = self.EpsilonGreedy()\n",
    "            i+=1\n",
    "            \n",
    "        return np.argmax(self.total_reward) == np.argmax(self.best_arm)"
   ]
  },
  {
   "cell_type": "code",
   "execution_count": 98,
   "metadata": {},
   "outputs": [
    {
     "name": "stdout",
     "output_type": "stream",
     "text": [
      "Condition: n_episodes: 50000 || n_armed: 4 || epsilon: 0.7 || learning_rate: 0.01\n",
      "Accuracy: 0.5333333333333333\n"
     ]
    }
   ],
   "source": [
    "epsilon = .7\n",
    "n_episodes = 50000\n",
    "n_armed = 4\n",
    "lr = 0.01\n",
    "correct_count = 0\n",
    "trial = 30\n",
    "for _ in range(trial):\n",
    "    correct_count += Bandit(n_armed=n_armed,n_episodes=n_episodes,epsilon=epsilon,lr=0.001).Main()\n",
    "\n",
    "print(f'Condition: n_episodes: {n_episodes} || n_armed: {n_armed} || epsilon: {epsilon} || learning_rate: {lr}')\n",
    "print(f'Accuracy: {correct_count/trial}')"
   ]
  },
  {
   "cell_type": "code",
   "execution_count": 99,
   "metadata": {},
   "outputs": [
    {
     "name": "stdout",
     "output_type": "stream",
     "text": [
      "Condition: n_episodes: 50000 || n_armed: 2 || epsilon: 0.7 || learning_rate: 0.01\n",
      "Accuracy: 0.8333333333333334\n"
     ]
    }
   ],
   "source": [
    "epsilon = .7\n",
    "n_episodes = 50000\n",
    "n_armed = 2\n",
    "lr = 0.01\n",
    "correct_count = 0\n",
    "trial = 30\n",
    "for _ in range(trial):\n",
    "    correct_count += Bandit(n_armed=n_armed,n_episodes=n_episodes,epsilon=epsilon,lr=0.001).Main()\n",
    "\n",
    "print(f'Condition: n_episodes: {n_episodes} || n_armed: {n_armed} || epsilon: {epsilon} || learning_rate: {lr}')\n",
    "print(f'Accuracy: {correct_count/trial}')"
   ]
  },
  {
   "cell_type": "code",
   "execution_count": 100,
   "metadata": {},
   "outputs": [
    {
     "name": "stdout",
     "output_type": "stream",
     "text": [
      "Condition: n_episodes: 50000 || n_armed: 10 || epsilon: 0.7 || learning_rate: 0.01\n",
      "Accuracy: 0.2\n"
     ]
    }
   ],
   "source": [
    "epsilon = .7\n",
    "n_episodes = 50000\n",
    "n_armed = 10\n",
    "lr = 0.01\n",
    "correct_count = 0\n",
    "trial = 30\n",
    "for _ in range(trial):\n",
    "    correct_count += Bandit(n_armed=n_armed,n_episodes=n_episodes,epsilon=epsilon,lr=0.001).Main()\n",
    "\n",
    "print(f'Condition: n_episodes: {n_episodes} || n_armed: {n_armed} || epsilon: {epsilon} || learning_rate: {lr}')\n",
    "print(f'Accuracy: {correct_count/trial}')"
   ]
  },
  {
   "cell_type": "code",
   "execution_count": 101,
   "metadata": {},
   "outputs": [
    {
     "name": "stdout",
     "output_type": "stream",
     "text": [
      "Condition: n_episodes: 50000 || n_armed: 2 || epsilon: 0.3 || learning_rate: 0.01\n",
      "Accuracy: 0.5666666666666667\n"
     ]
    }
   ],
   "source": [
    "epsilon = .3\n",
    "n_episodes = 50000\n",
    "n_armed = 2\n",
    "lr = 0.01\n",
    "correct_count = 0\n",
    "trial = 30\n",
    "for _ in range(trial):\n",
    "    correct_count += Bandit(n_armed=n_armed,n_episodes=n_episodes,epsilon=epsilon,lr=0.001).Main()\n",
    "\n",
    "print(f'Condition: n_episodes: {n_episodes} || n_armed: {n_armed} || epsilon: {epsilon} || learning_rate: {lr}')\n",
    "print(f'Accuracy: {correct_count/trial}')"
   ]
  },
  {
   "cell_type": "code",
   "execution_count": null,
   "metadata": {},
   "outputs": [],
   "source": []
  }
 ],
 "metadata": {
  "kernelspec": {
   "display_name": "Python 3",
   "language": "python",
   "name": "python3"
  },
  "language_info": {
   "codemirror_mode": {
    "name": "ipython",
    "version": 3
   },
   "file_extension": ".py",
   "mimetype": "text/x-python",
   "name": "python",
   "nbconvert_exporter": "python",
   "pygments_lexer": "ipython3",
   "version": "3.7.4"
  }
 },
 "nbformat": 4,
 "nbformat_minor": 2
}
